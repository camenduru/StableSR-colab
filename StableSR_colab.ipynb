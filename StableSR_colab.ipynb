{
  "cells": [
    {
      "cell_type": "markdown",
      "metadata": {
        "id": "view-in-github"
      },
      "source": [
        "[![Open In Colab](https://colab.research.google.com/assets/colab-badge.svg)](https://colab.research.google.com/github/camenduru/StableSR-colab/blob/main/StableSR_colab.ipynb)"
      ]
    },
    {
      "cell_type": "code",
      "execution_count": null,
      "metadata": {
        "id": "VjYy0F2gZIPR"
      },
      "outputs": [],
      "source": [
        "%cd /content\n",
        "!git clone -b dev https://github.com/camenduru/StableSR-hf\n",
        "!pip install -q gradio pytorch-lightning omegaconf test-tube streamlit einops transformers webdataset kornia open_clip_torch \n",
        "!pip install -q invisible-watermark streamlit-drawable-canvas streamlit-drawable-canvas torchmetrics xformers==0.0.20 wandb\n",
        "\n",
        "!wget https://huggingface.co/spaces/Iceclear/StableSR/resolve/main/StableSR/clip/bpe_simple_vocab_16e6.txt.gz -O /content/StableSR-hf/StableSR/clip/bpe_simple_vocab_16e6.txt.gz\n",
        "!wget https://huggingface.co/spaces/Iceclear/StableSR/resolve/main/StableSR/basicsr/metrics/niqe_pris_params.npz -O /content/StableSR-hf/StableSR/basicsr/metrics/niqe_pris_params.npz\n",
        "\n",
        "%cd /content/StableSR-hf\n",
        "!python app.py"
      ]
    }
  ],
  "metadata": {
    "accelerator": "GPU",
    "colab": {
      "gpuType": "T4",
      "provenance": []
    },
    "kernelspec": {
      "display_name": "Python 3",
      "name": "python3"
    },
    "language_info": {
      "name": "python"
    }
  },
  "nbformat": 4,
  "nbformat_minor": 0
}
